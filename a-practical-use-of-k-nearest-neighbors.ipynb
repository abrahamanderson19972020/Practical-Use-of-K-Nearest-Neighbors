{
 "cells": [
  {
   "cell_type": "code",
   "execution_count": 1,
   "metadata": {
    "_cell_guid": "b1076dfc-b9ad-4769-8c92-a6c4dae69d19",
    "_uuid": "8f2839f25d086af736a60e9eeb907d3b93b6e0e5",
    "execution": {
     "iopub.execute_input": "2021-01-02T11:30:44.123844Z",
     "iopub.status.busy": "2021-01-02T11:30:44.123173Z",
     "iopub.status.idle": "2021-01-02T11:30:44.140837Z",
     "shell.execute_reply": "2021-01-02T11:30:44.141360Z"
    },
    "papermill": {
     "duration": 0.048799,
     "end_time": "2021-01-02T11:30:44.141537",
     "exception": false,
     "start_time": "2021-01-02T11:30:44.092738",
     "status": "completed"
    },
    "tags": []
   },
   "outputs": [
    {
     "name": "stdout",
     "output_type": "stream",
     "text": [
      "/kaggle/input/customersegmentation/Telecust1.csv\n"
     ]
    }
   ],
   "source": [
    "# This Python 3 environment comes with many helpful analytics libraries installed\n",
    "# It is defined by the kaggle/python Docker image: https://github.com/kaggle/docker-python\n",
    "# For example, here's several helpful packages to load\n",
    "\n",
    "import numpy as np # linear algebra\n",
    "import pandas as pd # data processing, CSV file I/O (e.g. pd.read_csv)\n",
    "\n",
    "# Input data files are available in the read-only \"../input/\" directory\n",
    "# For example, running this (by clicking run or pressing Shift+Enter) will list all files under the input directory\n",
    "\n",
    "import os\n",
    "for dirname, _, filenames in os.walk('/kaggle/input'):\n",
    "    for filename in filenames:\n",
    "        print(os.path.join(dirname, filename))\n",
    "\n",
    "# You can write up to 20GB to the current directory (/kaggle/working/) that gets preserved as output when you create a version using \"Save & Run All\" \n",
    "# You can also write temporary files to /kaggle/temp/, but they won't be saved outside of the current session"
   ]
  },
  {
   "cell_type": "markdown",
   "metadata": {
    "papermill": {
     "duration": 0.022603,
     "end_time": "2021-01-02T11:30:44.188167",
     "exception": false,
     "start_time": "2021-01-02T11:30:44.165564",
     "status": "completed"
    },
    "tags": []
   },
   "source": [
    "# 1. General Information About K Nearest Neighbors:"
   ]
  },
  {
   "cell_type": "markdown",
   "metadata": {
    "papermill": {
     "duration": 0.022437,
     "end_time": "2021-01-02T11:30:44.233377",
     "exception": false,
     "start_time": "2021-01-02T11:30:44.210940",
     "status": "completed"
    },
    "tags": []
   },
   "source": [
    "<font color=\"blue\">\n",
    "    *K Nearest Neighbors is a classification algorithm\n",
    "\n",
    "*K nearest neighbors is a simple algorithm that stores all available cases and classifies new cases based on a similarity measure (e.g., distance functions).\n",
    "\n",
    "Firstly we store all the dataSecondly we calculate the data from x to all points in our data set, x indicationg particular new data point Then we sort the points near data by increasing distance from xFinally we predict the majority label of K, which is number and represent closest points\n",
    "\n",
    "*Choosing a K will effect what class a new point is assigned to: if we choose k=3, then the algorithm looks at the three nearest neighbors to this new point if we set k=6, then the algorithm looks at the six nearest neighbors to this new point and decide according to the majority of these 6 neighbors. If we set larger k values,we get a cleaner cutoff at the expense of mislabelling some points\n",
    "\n"
   ]
  },
  {
   "cell_type": "markdown",
   "metadata": {
    "papermill": {
     "duration": 0.022412,
     "end_time": "2021-01-02T11:30:44.278769",
     "exception": false,
     "start_time": "2021-01-02T11:30:44.256357",
     "status": "completed"
    },
    "tags": []
   },
   "source": [
    "### Here's an visualization of the K-Nearest Neighbors algorithm.\n",
    "\n",
    "<img src=\"https://ibm.box.com/shared/static/mgkn92xck0z05v7yjq8pqziukxvc2461.png\">\n"
   ]
  },
  {
   "cell_type": "markdown",
   "metadata": {
    "papermill": {
     "duration": 0.022608,
     "end_time": "2021-01-02T11:30:44.324352",
     "exception": false,
     "start_time": "2021-01-02T11:30:44.301744",
     "status": "completed"
    },
    "tags": []
   },
   "source": [
    "<font color=\"blue\" >\n",
    "In this case, we have data points of Class A and B. We want to predict what the star (test data point) is. If we consider a k value of 3 (3 nearest data points) we will obtain a prediction of Class B. Yet if we consider a k value of 6, we will obtain a prediction of Class A.Therefore, the value of k is very important for our model's success."
   ]
  },
  {
   "cell_type": "markdown",
   "metadata": {
    "papermill": {
     "duration": 0.022776,
     "end_time": "2021-01-02T11:30:44.370042",
     "exception": false,
     "start_time": "2021-01-02T11:30:44.347266",
     "status": "completed"
    },
    "tags": []
   },
   "source": [
    "# 2. Exploratory Data Analysis:"
   ]
  },
  {
   "cell_type": "code",
   "execution_count": 2,
   "metadata": {
    "_cell_guid": "79c7e3d0-c299-4dcb-8224-4455121ee9b0",
    "_uuid": "d629ff2d2480ee46fbb7e2d37f6b5fab8052498a",
    "execution": {
     "iopub.execute_input": "2021-01-02T11:30:44.425417Z",
     "iopub.status.busy": "2021-01-02T11:30:44.424766Z",
     "iopub.status.idle": "2021-01-02T11:30:44.463503Z",
     "shell.execute_reply": "2021-01-02T11:30:44.462859Z"
    },
    "papermill": {
     "duration": 0.070532,
     "end_time": "2021-01-02T11:30:44.463614",
     "exception": false,
     "start_time": "2021-01-02T11:30:44.393082",
     "status": "completed"
    },
    "tags": []
   },
   "outputs": [
    {
     "data": {
      "text/html": [
       "<div>\n",
       "<style scoped>\n",
       "    .dataframe tbody tr th:only-of-type {\n",
       "        vertical-align: middle;\n",
       "    }\n",
       "\n",
       "    .dataframe tbody tr th {\n",
       "        vertical-align: top;\n",
       "    }\n",
       "\n",
       "    .dataframe thead th {\n",
       "        text-align: right;\n",
       "    }\n",
       "</style>\n",
       "<table border=\"1\" class=\"dataframe\">\n",
       "  <thead>\n",
       "    <tr style=\"text-align: right;\">\n",
       "      <th></th>\n",
       "      <th>region</th>\n",
       "      <th>tenure</th>\n",
       "      <th>age</th>\n",
       "      <th>income</th>\n",
       "      <th>marital</th>\n",
       "      <th>address</th>\n",
       "      <th>ed</th>\n",
       "      <th>employ</th>\n",
       "      <th>retire</th>\n",
       "      <th>gender</th>\n",
       "      <th>reside</th>\n",
       "      <th>custcat</th>\n",
       "    </tr>\n",
       "  </thead>\n",
       "  <tbody>\n",
       "    <tr>\n",
       "      <th>0</th>\n",
       "      <td>2</td>\n",
       "      <td>13</td>\n",
       "      <td>44</td>\n",
       "      <td>64</td>\n",
       "      <td>1</td>\n",
       "      <td>9</td>\n",
       "      <td>4</td>\n",
       "      <td>5</td>\n",
       "      <td>0</td>\n",
       "      <td>0</td>\n",
       "      <td>2</td>\n",
       "      <td>A</td>\n",
       "    </tr>\n",
       "    <tr>\n",
       "      <th>1</th>\n",
       "      <td>3</td>\n",
       "      <td>11</td>\n",
       "      <td>33</td>\n",
       "      <td>136</td>\n",
       "      <td>1</td>\n",
       "      <td>7</td>\n",
       "      <td>5</td>\n",
       "      <td>5</td>\n",
       "      <td>0</td>\n",
       "      <td>0</td>\n",
       "      <td>6</td>\n",
       "      <td>D</td>\n",
       "    </tr>\n",
       "    <tr>\n",
       "      <th>2</th>\n",
       "      <td>3</td>\n",
       "      <td>68</td>\n",
       "      <td>52</td>\n",
       "      <td>116</td>\n",
       "      <td>1</td>\n",
       "      <td>24</td>\n",
       "      <td>1</td>\n",
       "      <td>29</td>\n",
       "      <td>0</td>\n",
       "      <td>1</td>\n",
       "      <td>2</td>\n",
       "      <td>C</td>\n",
       "    </tr>\n",
       "    <tr>\n",
       "      <th>3</th>\n",
       "      <td>2</td>\n",
       "      <td>33</td>\n",
       "      <td>33</td>\n",
       "      <td>33</td>\n",
       "      <td>0</td>\n",
       "      <td>12</td>\n",
       "      <td>2</td>\n",
       "      <td>0</td>\n",
       "      <td>0</td>\n",
       "      <td>1</td>\n",
       "      <td>1</td>\n",
       "      <td>A</td>\n",
       "    </tr>\n",
       "    <tr>\n",
       "      <th>4</th>\n",
       "      <td>2</td>\n",
       "      <td>23</td>\n",
       "      <td>30</td>\n",
       "      <td>30</td>\n",
       "      <td>1</td>\n",
       "      <td>9</td>\n",
       "      <td>1</td>\n",
       "      <td>2</td>\n",
       "      <td>0</td>\n",
       "      <td>0</td>\n",
       "      <td>4</td>\n",
       "      <td>C</td>\n",
       "    </tr>\n",
       "  </tbody>\n",
       "</table>\n",
       "</div>"
      ],
      "text/plain": [
       "   region  tenure  age  income  marital  address  ed  employ  retire  gender  \\\n",
       "0       2      13   44      64        1        9   4       5       0       0   \n",
       "1       3      11   33     136        1        7   5       5       0       0   \n",
       "2       3      68   52     116        1       24   1      29       0       1   \n",
       "3       2      33   33      33        0       12   2       0       0       1   \n",
       "4       2      23   30      30        1        9   1       2       0       0   \n",
       "\n",
       "   reside custcat  \n",
       "0       2       A  \n",
       "1       6       D  \n",
       "2       2       C  \n",
       "3       1       A  \n",
       "4       4       C  "
      ]
     },
     "execution_count": 2,
     "metadata": {},
     "output_type": "execute_result"
    }
   ],
   "source": [
    "df=pd.read_csv(\"../input/customersegmentation/Telecust1.csv\")\n",
    "df.head()"
   ]
  },
  {
   "cell_type": "markdown",
   "metadata": {
    "papermill": {
     "duration": 0.023603,
     "end_time": "2021-01-02T11:30:44.511148",
     "exception": false,
     "start_time": "2021-01-02T11:30:44.487545",
     "status": "completed"
    },
    "tags": []
   },
   "source": [
    "<font color=\"blue\" >\n",
    "The target field, called custcat, has four possible values that correspond to the four customer groups, as follows: 1- Basic Service 2- E-Service 3- Plus Service 4- Total Service\n",
    "\n",
    "Our objective is to build a classifier, to predict the class of unknown cases. We will use a specific type of classification called K nearest neighbour."
   ]
  },
  {
   "cell_type": "code",
   "execution_count": 3,
   "metadata": {
    "execution": {
     "iopub.execute_input": "2021-01-02T11:30:44.563834Z",
     "iopub.status.busy": "2021-01-02T11:30:44.563139Z",
     "iopub.status.idle": "2021-01-02T11:30:45.557966Z",
     "shell.execute_reply": "2021-01-02T11:30:45.556886Z"
    },
    "papermill": {
     "duration": 1.023121,
     "end_time": "2021-01-02T11:30:45.558091",
     "exception": false,
     "start_time": "2021-01-02T11:30:44.534970",
     "status": "completed"
    },
    "tags": []
   },
   "outputs": [],
   "source": [
    "import seaborn as sns\n",
    "import matplotlib.pyplot as plt"
   ]
  },
  {
   "cell_type": "code",
   "execution_count": 4,
   "metadata": {
    "execution": {
     "iopub.execute_input": "2021-01-02T11:30:45.612197Z",
     "iopub.status.busy": "2021-01-02T11:30:45.611536Z",
     "iopub.status.idle": "2021-01-02T11:30:46.327792Z",
     "shell.execute_reply": "2021-01-02T11:30:46.328307Z"
    },
    "papermill": {
     "duration": 0.746059,
     "end_time": "2021-01-02T11:30:46.328443",
     "exception": false,
     "start_time": "2021-01-02T11:30:45.582384",
     "status": "completed"
    },
    "tags": []
   },
   "outputs": [
    {
     "data": {
      "text/plain": [
       "<matplotlib.axes._subplots.AxesSubplot at 0x7f10bb265f90>"
      ]
     },
     "execution_count": 4,
     "metadata": {},
     "output_type": "execute_result"
    },
    {
     "data": {
      "image/png": "[encoded data removed]",
      "text/plain": [
       "<Figure size 1440x720 with 2 Axes>"
      ]
     },
     "metadata": {
      "needs_background": "light"
     },
     "output_type": "display_data"
    }
   ],
   "source": [
    "plt.figure(figsize=(20,10))\n",
    "sns.heatmap(df.corr(), cmap=\"viridis\",annot=True,linewidths=0.1)\n",
    "#Here we get a heatmap of correlation of all features, except from the target column because it is a string"
   ]
  },
  {
   "cell_type": "code",
   "execution_count": 5,
   "metadata": {
    "execution": {
     "iopub.execute_input": "2021-01-02T11:30:46.392029Z",
     "iopub.status.busy": "2021-01-02T11:30:46.391106Z",
     "iopub.status.idle": "2021-01-02T11:30:46.394686Z",
     "shell.execute_reply": "2021-01-02T11:30:46.395199Z"
    },
    "papermill": {
     "duration": 0.0385,
     "end_time": "2021-01-02T11:30:46.395335",
     "exception": false,
     "start_time": "2021-01-02T11:30:46.356835",
     "status": "completed"
    },
    "tags": []
   },
   "outputs": [
    {
     "data": {
      "text/plain": [
       "C    281\n",
       "A    266\n",
       "D    236\n",
       "B    217\n",
       "Name: custcat, dtype: int64"
      ]
     },
     "execution_count": 5,
     "metadata": {},
     "output_type": "execute_result"
    }
   ],
   "source": [
    "df[\"custcat\"].value_counts()\n",
    "#Here we can see how many of each class is in our data"
   ]
  },
  {
   "cell_type": "markdown",
   "metadata": {
    "papermill": {
     "duration": 0.027121,
     "end_time": "2021-01-02T11:30:46.449342",
     "exception": false,
     "start_time": "2021-01-02T11:30:46.422221",
     "status": "completed"
    },
    "tags": []
   },
   "source": [
    "#### 281 Plus Service, 266 Basic-service, 236 Total Service, and 217 E-Service customers\n"
   ]
  },
  {
   "cell_type": "code",
   "execution_count": 6,
   "metadata": {
    "execution": {
     "iopub.execute_input": "2021-01-02T11:30:46.508621Z",
     "iopub.status.busy": "2021-01-02T11:30:46.507611Z",
     "iopub.status.idle": "2021-01-02T11:30:46.698278Z",
     "shell.execute_reply": "2021-01-02T11:30:46.697767Z"
    },
    "papermill": {
     "duration": 0.221552,
     "end_time": "2021-01-02T11:30:46.698391",
     "exception": false,
     "start_time": "2021-01-02T11:30:46.476839",
     "status": "completed"
    },
    "tags": []
   },
   "outputs": [
    {
     "data": {
      "text/plain": [
       "<matplotlib.axes._subplots.AxesSubplot at 0x7f10ba71a850>"
      ]
     },
     "execution_count": 6,
     "metadata": {},
     "output_type": "execute_result"
    },
    {
     "data": {
      "image/png": "[encoded data removed]",
      "text/plain": [
       "<Figure size 1440x720 with 1 Axes>"
      ]
     },
     "metadata": {
      "needs_background": "light"
     },
     "output_type": "display_data"
    }
   ],
   "source": [
    "plt.figure(figsize=(20,10))\n",
    "sns.set_style(\"darkgrid\")\n",
    "sns.countplot(x=\"custcat\",data=df)\n",
    "#Here we visualize our target column"
   ]
  },
  {
   "cell_type": "markdown",
   "metadata": {
    "papermill": {
     "duration": 0.02817,
     "end_time": "2021-01-02T11:30:46.754937",
     "exception": false,
     "start_time": "2021-01-02T11:30:46.726767",
     "status": "completed"
    },
    "tags": []
   },
   "source": [
    "# 3. Normalizing and Splitting Data"
   ]
  },
  {
   "cell_type": "code",
   "execution_count": 7,
   "metadata": {
    "execution": {
     "iopub.execute_input": "2021-01-02T11:30:46.829994Z",
     "iopub.status.busy": "2021-01-02T11:30:46.829318Z",
     "iopub.status.idle": "2021-01-02T11:30:46.835562Z",
     "shell.execute_reply": "2021-01-02T11:30:46.835043Z"
    },
    "papermill": {
     "duration": 0.051791,
     "end_time": "2021-01-02T11:30:46.835675",
     "exception": false,
     "start_time": "2021-01-02T11:30:46.783884",
     "status": "completed"
    },
    "tags": []
   },
   "outputs": [
    {
     "data": {
      "text/html": [
       "<div>\n",
       "<style scoped>\n",
       "    .dataframe tbody tr th:only-of-type {\n",
       "        vertical-align: middle;\n",
       "    }\n",
       "\n",
       "    .dataframe tbody tr th {\n",
       "        vertical-align: top;\n",
       "    }\n",
       "\n",
       "    .dataframe thead th {\n",
       "        text-align: right;\n",
       "    }\n",
       "</style>\n",
       "<table border=\"1\" class=\"dataframe\">\n",
       "  <thead>\n",
       "    <tr style=\"text-align: right;\">\n",
       "      <th></th>\n",
       "      <th>region</th>\n",
       "      <th>tenure</th>\n",
       "      <th>age</th>\n",
       "      <th>income</th>\n",
       "      <th>marital</th>\n",
       "      <th>address</th>\n",
       "      <th>ed</th>\n",
       "      <th>employ</th>\n",
       "      <th>retire</th>\n",
       "      <th>gender</th>\n",
       "      <th>reside</th>\n",
       "    </tr>\n",
       "  </thead>\n",
       "  <tbody>\n",
       "    <tr>\n",
       "      <th>0</th>\n",
       "      <td>2</td>\n",
       "      <td>13</td>\n",
       "      <td>44</td>\n",
       "      <td>64</td>\n",
       "      <td>1</td>\n",
       "      <td>9</td>\n",
       "      <td>4</td>\n",
       "      <td>5</td>\n",
       "      <td>0</td>\n",
       "      <td>0</td>\n",
       "      <td>2</td>\n",
       "    </tr>\n",
       "    <tr>\n",
       "      <th>1</th>\n",
       "      <td>3</td>\n",
       "      <td>11</td>\n",
       "      <td>33</td>\n",
       "      <td>136</td>\n",
       "      <td>1</td>\n",
       "      <td>7</td>\n",
       "      <td>5</td>\n",
       "      <td>5</td>\n",
       "      <td>0</td>\n",
       "      <td>0</td>\n",
       "      <td>6</td>\n",
       "    </tr>\n",
       "    <tr>\n",
       "      <th>2</th>\n",
       "      <td>3</td>\n",
       "      <td>68</td>\n",
       "      <td>52</td>\n",
       "      <td>116</td>\n",
       "      <td>1</td>\n",
       "      <td>24</td>\n",
       "      <td>1</td>\n",
       "      <td>29</td>\n",
       "      <td>0</td>\n",
       "      <td>1</td>\n",
       "      <td>2</td>\n",
       "    </tr>\n",
       "    <tr>\n",
       "      <th>3</th>\n",
       "      <td>2</td>\n",
       "      <td>33</td>\n",
       "      <td>33</td>\n",
       "      <td>33</td>\n",
       "      <td>0</td>\n",
       "      <td>12</td>\n",
       "      <td>2</td>\n",
       "      <td>0</td>\n",
       "      <td>0</td>\n",
       "      <td>1</td>\n",
       "      <td>1</td>\n",
       "    </tr>\n",
       "    <tr>\n",
       "      <th>4</th>\n",
       "      <td>2</td>\n",
       "      <td>23</td>\n",
       "      <td>30</td>\n",
       "      <td>30</td>\n",
       "      <td>1</td>\n",
       "      <td>9</td>\n",
       "      <td>1</td>\n",
       "      <td>2</td>\n",
       "      <td>0</td>\n",
       "      <td>0</td>\n",
       "      <td>4</td>\n",
       "    </tr>\n",
       "    <tr>\n",
       "      <th>...</th>\n",
       "      <td>...</td>\n",
       "      <td>...</td>\n",
       "      <td>...</td>\n",
       "      <td>...</td>\n",
       "      <td>...</td>\n",
       "      <td>...</td>\n",
       "      <td>...</td>\n",
       "      <td>...</td>\n",
       "      <td>...</td>\n",
       "      <td>...</td>\n",
       "      <td>...</td>\n",
       "    </tr>\n",
       "    <tr>\n",
       "      <th>995</th>\n",
       "      <td>3</td>\n",
       "      <td>10</td>\n",
       "      <td>39</td>\n",
       "      <td>27</td>\n",
       "      <td>0</td>\n",
       "      <td>0</td>\n",
       "      <td>3</td>\n",
       "      <td>0</td>\n",
       "      <td>0</td>\n",
       "      <td>1</td>\n",
       "      <td>3</td>\n",
       "    </tr>\n",
       "    <tr>\n",
       "      <th>996</th>\n",
       "      <td>1</td>\n",
       "      <td>7</td>\n",
       "      <td>34</td>\n",
       "      <td>22</td>\n",
       "      <td>0</td>\n",
       "      <td>2</td>\n",
       "      <td>5</td>\n",
       "      <td>5</td>\n",
       "      <td>0</td>\n",
       "      <td>1</td>\n",
       "      <td>1</td>\n",
       "    </tr>\n",
       "    <tr>\n",
       "      <th>997</th>\n",
       "      <td>3</td>\n",
       "      <td>67</td>\n",
       "      <td>59</td>\n",
       "      <td>944</td>\n",
       "      <td>0</td>\n",
       "      <td>40</td>\n",
       "      <td>5</td>\n",
       "      <td>33</td>\n",
       "      <td>0</td>\n",
       "      <td>1</td>\n",
       "      <td>1</td>\n",
       "    </tr>\n",
       "    <tr>\n",
       "      <th>998</th>\n",
       "      <td>3</td>\n",
       "      <td>70</td>\n",
       "      <td>49</td>\n",
       "      <td>87</td>\n",
       "      <td>0</td>\n",
       "      <td>18</td>\n",
       "      <td>2</td>\n",
       "      <td>22</td>\n",
       "      <td>0</td>\n",
       "      <td>1</td>\n",
       "      <td>1</td>\n",
       "    </tr>\n",
       "    <tr>\n",
       "      <th>999</th>\n",
       "      <td>3</td>\n",
       "      <td>50</td>\n",
       "      <td>36</td>\n",
       "      <td>39</td>\n",
       "      <td>1</td>\n",
       "      <td>7</td>\n",
       "      <td>3</td>\n",
       "      <td>3</td>\n",
       "      <td>0</td>\n",
       "      <td>1</td>\n",
       "      <td>3</td>\n",
       "    </tr>\n",
       "  </tbody>\n",
       "</table>\n",
       "<p>1000 rows × 11 columns</p>\n",
       "</div>"
      ],
      "text/plain": [
       "     region  tenure  age  income  marital  address  ed  employ  retire  \\\n",
       "0         2      13   44      64        1        9   4       5       0   \n",
       "1         3      11   33     136        1        7   5       5       0   \n",
       "2         3      68   52     116        1       24   1      29       0   \n",
       "3         2      33   33      33        0       12   2       0       0   \n",
       "4         2      23   30      30        1        9   1       2       0   \n",
       "..      ...     ...  ...     ...      ...      ...  ..     ...     ...   \n",
       "995       3      10   39      27        0        0   3       0       0   \n",
       "996       1       7   34      22        0        2   5       5       0   \n",
       "997       3      67   59     944        0       40   5      33       0   \n",
       "998       3      70   49      87        0       18   2      22       0   \n",
       "999       3      50   36      39        1        7   3       3       0   \n",
       "\n",
       "     gender  reside  \n",
       "0         0       2  \n",
       "1         0       6  \n",
       "2         1       2  \n",
       "3         1       1  \n",
       "4         0       4  \n",
       "..      ...     ...  \n",
       "995       1       3  \n",
       "996       1       1  \n",
       "997       1       1  \n",
       "998       1       1  \n",
       "999       1       3  \n",
       "\n",
       "[1000 rows x 11 columns]"
      ]
     },
     "execution_count": 7,
     "metadata": {},
     "output_type": "execute_result"
    }
   ],
   "source": [
    "X=df.drop(\"custcat\",axis=1) #Here we assign all the other features as our X independent variables\n",
    "X"
   ]
  },
  {
   "cell_type": "code",
   "execution_count": 8,
   "metadata": {
    "execution": {
     "iopub.execute_input": "2021-01-02T11:30:46.898214Z",
     "iopub.status.busy": "2021-01-02T11:30:46.897563Z",
     "iopub.status.idle": "2021-01-02T11:30:46.953982Z",
     "shell.execute_reply": "2021-01-02T11:30:46.954628Z"
    },
    "papermill": {
     "duration": 0.089807,
     "end_time": "2021-01-02T11:30:46.954787",
     "exception": false,
     "start_time": "2021-01-02T11:30:46.864980",
     "status": "completed"
    },
    "tags": []
   },
   "outputs": [],
   "source": [
    "from sklearn.preprocessing import StandardScaler"
   ]
  },
  {
   "cell_type": "code",
   "execution_count": 9,
   "metadata": {
    "execution": {
     "iopub.execute_input": "2021-01-02T11:30:47.020973Z",
     "iopub.status.busy": "2021-01-02T11:30:47.020262Z",
     "iopub.status.idle": "2021-01-02T11:30:47.022239Z",
     "shell.execute_reply": "2021-01-02T11:30:47.022752Z"
    },
    "papermill": {
     "duration": 0.038203,
     "end_time": "2021-01-02T11:30:47.022883",
     "exception": false,
     "start_time": "2021-01-02T11:30:46.984680",
     "status": "completed"
    },
    "tags": []
   },
   "outputs": [],
   "source": [
    "scaler=StandardScaler()"
   ]
  },
  {
   "cell_type": "code",
   "execution_count": 10,
   "metadata": {
    "execution": {
     "iopub.execute_input": "2021-01-02T11:30:47.086095Z",
     "iopub.status.busy": "2021-01-02T11:30:47.085371Z",
     "iopub.status.idle": "2021-01-02T11:30:47.096214Z",
     "shell.execute_reply": "2021-01-02T11:30:47.095648Z"
    },
    "papermill": {
     "duration": 0.043601,
     "end_time": "2021-01-02T11:30:47.096320",
     "exception": false,
     "start_time": "2021-01-02T11:30:47.052719",
     "status": "completed"
    },
    "tags": []
   },
   "outputs": [
    {
     "data": {
      "text/plain": [
       "array([[-0.02696767, -1.055125  ,  0.18450456, ..., -0.22207644,\n",
       "        -1.03459817, -0.23065004],\n",
       "       [ 1.19883553, -1.14880563, -0.69181243, ..., -0.22207644,\n",
       "        -1.03459817,  2.55666158],\n",
       "       [ 1.19883553,  1.52109247,  0.82182601, ..., -0.22207644,\n",
       "         0.96655883, -0.23065004],\n",
       "       ...,\n",
       "       [ 1.19883553,  1.47425216,  1.37948227, ..., -0.22207644,\n",
       "         0.96655883, -0.92747794],\n",
       "       [ 1.19883553,  1.61477311,  0.58283046, ..., -0.22207644,\n",
       "         0.96655883, -0.92747794],\n",
       "       [ 1.19883553,  0.67796676, -0.45281689, ..., -0.22207644,\n",
       "         0.96655883,  0.46617787]])"
      ]
     },
     "execution_count": 10,
     "metadata": {},
     "output_type": "execute_result"
    }
   ],
   "source": [
    "X= scaler.fit_transform(X)\n",
    "X"
   ]
  },
  {
   "cell_type": "code",
   "execution_count": 11,
   "metadata": {
    "execution": {
     "iopub.execute_input": "2021-01-02T11:30:47.162314Z",
     "iopub.status.busy": "2021-01-02T11:30:47.161409Z",
     "iopub.status.idle": "2021-01-02T11:30:47.165062Z",
     "shell.execute_reply": "2021-01-02T11:30:47.164474Z"
    },
    "papermill": {
     "duration": 0.038783,
     "end_time": "2021-01-02T11:30:47.165163",
     "exception": false,
     "start_time": "2021-01-02T11:30:47.126380",
     "status": "completed"
    },
    "tags": []
   },
   "outputs": [
    {
     "data": {
      "text/plain": [
       "(1000, 11)"
      ]
     },
     "execution_count": 11,
     "metadata": {},
     "output_type": "execute_result"
    }
   ],
   "source": [
    "X.shape"
   ]
  },
  {
   "cell_type": "markdown",
   "metadata": {
    "papermill": {
     "duration": 0.030196,
     "end_time": "2021-01-02T11:30:47.226397",
     "exception": false,
     "start_time": "2021-01-02T11:30:47.196201",
     "status": "completed"
    },
    "tags": []
   },
   "source": [
    "<font color=\"blue\" >\n",
    "We have to transform our target column into a numerical values before impleneting the algorithm:"
   ]
  },
  {
   "cell_type": "code",
   "execution_count": 12,
   "metadata": {
    "execution": {
     "iopub.execute_input": "2021-01-02T11:30:47.290438Z",
     "iopub.status.busy": "2021-01-02T11:30:47.289839Z",
     "iopub.status.idle": "2021-01-02T11:30:47.298019Z",
     "shell.execute_reply": "2021-01-02T11:30:47.298623Z"
    },
    "papermill": {
     "duration": 0.041926,
     "end_time": "2021-01-02T11:30:47.298767",
     "exception": false,
     "start_time": "2021-01-02T11:30:47.256841",
     "status": "completed"
    },
    "tags": []
   },
   "outputs": [
    {
     "data": {
      "text/plain": [
       "0      1\n",
       "1      4\n",
       "2      3\n",
       "3      1\n",
       "4      3\n",
       "      ..\n",
       "995    1\n",
       "996    1\n",
       "997    4\n",
       "998    3\n",
       "999    2\n",
       "Name: custcat, Length: 1000, dtype: int64"
      ]
     },
     "execution_count": 12,
     "metadata": {},
     "output_type": "execute_result"
    }
   ],
   "source": [
    "y=df[\"custcat\"].map({\"A\":1, \"B\":2, \"C\":3, \"D\":4})\n",
    "y"
   ]
  },
  {
   "cell_type": "markdown",
   "metadata": {
    "papermill": {
     "duration": 0.030786,
     "end_time": "2021-01-02T11:30:47.361538",
     "exception": false,
     "start_time": "2021-01-02T11:30:47.330752",
     "status": "completed"
    },
    "tags": []
   },
   "source": [
    "<font color=\"blue\" >\n",
    "Now we can split our data train and test dataset as follows:"
   ]
  },
  {
   "cell_type": "code",
   "execution_count": 13,
   "metadata": {
    "execution": {
     "iopub.execute_input": "2021-01-02T11:30:47.427234Z",
     "iopub.status.busy": "2021-01-02T11:30:47.426621Z",
     "iopub.status.idle": "2021-01-02T11:30:47.488880Z",
     "shell.execute_reply": "2021-01-02T11:30:47.489364Z"
    },
    "papermill": {
     "duration": 0.096648,
     "end_time": "2021-01-02T11:30:47.489542",
     "exception": false,
     "start_time": "2021-01-02T11:30:47.392894",
     "status": "completed"
    },
    "tags": []
   },
   "outputs": [
    {
     "name": "stdout",
     "output_type": "stream",
     "text": [
      "Train set: (800, 11) (800,)\n",
      "Test set: (200, 11) (200,)\n"
     ]
    }
   ],
   "source": [
    "from sklearn.model_selection import train_test_split\n",
    "x_train, x_test, y_train, y_test = train_test_split( X, y, test_size=0.2, random_state=4)\n",
    "print ('Train set:', x_train.shape,  y_train.shape)\n",
    "print ('Test set:', x_test.shape,  y_test.shape)"
   ]
  },
  {
   "cell_type": "markdown",
   "metadata": {
    "papermill": {
     "duration": 0.031356,
     "end_time": "2021-01-02T11:30:47.552562",
     "exception": false,
     "start_time": "2021-01-02T11:30:47.521206",
     "status": "completed"
    },
    "tags": []
   },
   "source": [
    "# 4. Using the K Nearest Neighbors Algorithm:"
   ]
  },
  {
   "cell_type": "code",
   "execution_count": 14,
   "metadata": {
    "execution": {
     "iopub.execute_input": "2021-01-02T11:30:47.620544Z",
     "iopub.status.busy": "2021-01-02T11:30:47.619927Z",
     "iopub.status.idle": "2021-01-02T11:30:47.829840Z",
     "shell.execute_reply": "2021-01-02T11:30:47.829206Z"
    },
    "papermill": {
     "duration": 0.245916,
     "end_time": "2021-01-02T11:30:47.829958",
     "exception": false,
     "start_time": "2021-01-02T11:30:47.584042",
     "status": "completed"
    },
    "tags": []
   },
   "outputs": [],
   "source": [
    "from sklearn.neighbors import KNeighborsClassifier"
   ]
  },
  {
   "cell_type": "code",
   "execution_count": 15,
   "metadata": {
    "execution": {
     "iopub.execute_input": "2021-01-02T11:30:47.909286Z",
     "iopub.status.busy": "2021-01-02T11:30:47.908390Z",
     "iopub.status.idle": "2021-01-02T11:30:47.911778Z",
     "shell.execute_reply": "2021-01-02T11:30:47.911038Z"
    },
    "papermill": {
     "duration": 0.049539,
     "end_time": "2021-01-02T11:30:47.911929",
     "exception": false,
     "start_time": "2021-01-02T11:30:47.862390",
     "status": "completed"
    },
    "tags": []
   },
   "outputs": [],
   "source": [
    "from sklearn.neighbors import KNeighborsClassifier\n",
    "knn=KNeighborsClassifier(n_neighbors=1)"
   ]
  },
  {
   "cell_type": "code",
   "execution_count": 16,
   "metadata": {
    "execution": {
     "iopub.execute_input": "2021-01-02T11:30:48.012589Z",
     "iopub.status.busy": "2021-01-02T11:30:48.011475Z",
     "iopub.status.idle": "2021-01-02T11:30:48.023246Z",
     "shell.execute_reply": "2021-01-02T11:30:48.022250Z"
    },
    "papermill": {
     "duration": 0.062688,
     "end_time": "2021-01-02T11:30:48.023416",
     "exception": false,
     "start_time": "2021-01-02T11:30:47.960728",
     "status": "completed"
    },
    "tags": []
   },
   "outputs": [
    {
     "data": {
      "text/plain": [
       "KNeighborsClassifier(n_neighbors=1)"
      ]
     },
     "execution_count": 16,
     "metadata": {},
     "output_type": "execute_result"
    }
   ],
   "source": [
    "knn.fit(x_train, y_train)#Here the algorithm fit the training data"
   ]
  },
  {
   "cell_type": "code",
   "execution_count": 17,
   "metadata": {
    "execution": {
     "iopub.execute_input": "2021-01-02T11:30:48.100406Z",
     "iopub.status.busy": "2021-01-02T11:30:48.099769Z",
     "iopub.status.idle": "2021-01-02T11:30:48.115228Z",
     "shell.execute_reply": "2021-01-02T11:30:48.114621Z"
    },
    "papermill": {
     "duration": 0.053028,
     "end_time": "2021-01-02T11:30:48.115334",
     "exception": false,
     "start_time": "2021-01-02T11:30:48.062306",
     "status": "completed"
    },
    "tags": []
   },
   "outputs": [
    {
     "data": {
      "text/plain": [
       "array([3, 3, 3, 4, 4, 3, 4, 4, 2, 1, 1, 1, 4, 3, 1, 3, 3, 2, 4, 4, 3, 4,\n",
       "       4, 1, 1, 3, 1, 1, 1, 2, 3, 4, 4, 2, 3, 2, 3, 1, 3, 2, 1, 4, 2, 2,\n",
       "       2, 1, 2, 1, 4, 2, 1, 4, 2, 4, 4, 3, 4, 3, 1, 1, 1, 3, 2, 3, 3, 1,\n",
       "       1, 2, 3, 1, 3, 3, 4, 2, 1, 2, 4, 4, 4, 3, 2, 4, 2, 1, 1, 3, 3, 2,\n",
       "       3, 3, 3, 2, 3, 1, 1, 2, 2, 2, 1, 1, 1, 4, 4, 3, 1, 3, 2, 4, 2, 1,\n",
       "       2, 3, 3, 4, 1, 3, 1, 3, 2, 3, 4, 2, 2, 3, 3, 2, 4, 4, 1, 2, 2, 1,\n",
       "       4, 3, 2, 2, 3, 4, 3, 4, 4, 2, 4, 1, 1, 4, 4, 2, 1, 4, 1, 2, 2, 4,\n",
       "       2, 4, 3, 3, 3, 2, 3, 1, 1, 1, 3, 4, 1, 3, 3, 4, 1, 3, 2, 2, 2, 3,\n",
       "       3, 4, 1, 1, 1, 1, 1, 3, 1, 2, 3, 1, 3, 4, 1, 4, 3, 1, 3, 4, 1, 4,\n",
       "       2, 3])"
      ]
     },
     "execution_count": 17,
     "metadata": {},
     "output_type": "execute_result"
    }
   ],
   "source": [
    "predictions=knn.predict(x_test) #here we make our predictions\n",
    "predictions"
   ]
  },
  {
   "cell_type": "code",
   "execution_count": 18,
   "metadata": {
    "execution": {
     "iopub.execute_input": "2021-01-02T11:30:48.186824Z",
     "iopub.status.busy": "2021-01-02T11:30:48.186144Z",
     "iopub.status.idle": "2021-01-02T11:30:48.189859Z",
     "shell.execute_reply": "2021-01-02T11:30:48.190325Z"
    },
    "papermill": {
     "duration": 0.042234,
     "end_time": "2021-01-02T11:30:48.190490",
     "exception": false,
     "start_time": "2021-01-02T11:30:48.148256",
     "status": "completed"
    },
    "tags": []
   },
   "outputs": [
    {
     "name": "stdout",
     "output_type": "stream",
     "text": [
      "Test set Accuracy:  0.3\n"
     ]
    }
   ],
   "source": [
    "from sklearn import metrics\n",
    "\n",
    "print(\"Test set Accuracy: \", metrics.accuracy_score(y_test, predictions))"
   ]
  },
  {
   "cell_type": "code",
   "execution_count": 19,
   "metadata": {
    "execution": {
     "iopub.execute_input": "2021-01-02T11:30:48.263681Z",
     "iopub.status.busy": "2021-01-02T11:30:48.261999Z",
     "iopub.status.idle": "2021-01-02T11:30:48.267856Z",
     "shell.execute_reply": "2021-01-02T11:30:48.267328Z"
    },
    "papermill": {
     "duration": 0.044062,
     "end_time": "2021-01-02T11:30:48.267972",
     "exception": false,
     "start_time": "2021-01-02T11:30:48.223910",
     "status": "completed"
    },
    "tags": []
   },
   "outputs": [
    {
     "name": "stdout",
     "output_type": "stream",
     "text": [
      "[[17 10 17  7]\n",
      " [ 9 13 11 11]\n",
      " [10 12 17 15]\n",
      " [17 10 11 13]]\n"
     ]
    }
   ],
   "source": [
    "from sklearn.metrics import classification_report, confusion_matrix\n",
    "print(confusion_matrix(y_test,predictions))"
   ]
  },
  {
   "cell_type": "code",
   "execution_count": 20,
   "metadata": {
    "execution": {
     "iopub.execute_input": "2021-01-02T11:30:48.342149Z",
     "iopub.status.busy": "2021-01-02T11:30:48.341119Z",
     "iopub.status.idle": "2021-01-02T11:30:48.350225Z",
     "shell.execute_reply": "2021-01-02T11:30:48.349567Z"
    },
    "papermill": {
     "duration": 0.047959,
     "end_time": "2021-01-02T11:30:48.350337",
     "exception": false,
     "start_time": "2021-01-02T11:30:48.302378",
     "status": "completed"
    },
    "tags": []
   },
   "outputs": [
    {
     "name": "stdout",
     "output_type": "stream",
     "text": [
      "              precision    recall  f1-score   support\n",
      "\n",
      "           1       0.32      0.33      0.33        51\n",
      "           2       0.29      0.30      0.29        44\n",
      "           3       0.30      0.31      0.31        54\n",
      "           4       0.28      0.25      0.27        51\n",
      "\n",
      "    accuracy                           0.30       200\n",
      "   macro avg       0.30      0.30      0.30       200\n",
      "weighted avg       0.30      0.30      0.30       200\n",
      "\n"
     ]
    }
   ],
   "source": [
    "print(classification_report(y_test,predictions))\n"
   ]
  },
  {
   "cell_type": "markdown",
   "metadata": {
    "papermill": {
     "duration": 0.033629,
     "end_time": "2021-01-02T11:30:48.418101",
     "exception": false,
     "start_time": "2021-01-02T11:30:48.384472",
     "status": "completed"
    },
    "tags": []
   },
   "source": [
    "<font color=\"blue\">\n",
    "    As we can see our model does not perform good when we use k=1.\n",
    "    \n",
    "    Instead of using different k vlaues which will be time consuming, we can use a function in order to choose the best k."
   ]
  },
  {
   "cell_type": "code",
   "execution_count": 21,
   "metadata": {
    "execution": {
     "iopub.execute_input": "2021-01-02T11:30:48.494639Z",
     "iopub.status.busy": "2021-01-02T11:30:48.492969Z",
     "iopub.status.idle": "2021-01-02T11:30:49.071246Z",
     "shell.execute_reply": "2021-01-02T11:30:49.070702Z"
    },
    "papermill": {
     "duration": 0.619104,
     "end_time": "2021-01-02T11:30:49.071369",
     "exception": false,
     "start_time": "2021-01-02T11:30:48.452265",
     "status": "completed"
    },
    "tags": []
   },
   "outputs": [],
   "source": [
    "error_rate=list()\n",
    "#here we iterate meny different k values and plot their error rates \n",
    "#and discover which one is better than others and has the lowest error rate\n",
    "for i in range(1,40):\n",
    "    knn=KNeighborsClassifier(n_neighbors=i)\n",
    "    knn.fit(x_train,y_train)\n",
    "    prediction_i=knn.predict(x_test)\n",
    "    error_rate.append(np.mean(prediction_i != y_test))\n"
   ]
  },
  {
   "cell_type": "code",
   "execution_count": 22,
   "metadata": {
    "execution": {
     "iopub.execute_input": "2021-01-02T11:30:49.151947Z",
     "iopub.status.busy": "2021-01-02T11:30:49.151271Z",
     "iopub.status.idle": "2021-01-02T11:30:49.467418Z",
     "shell.execute_reply": "2021-01-02T11:30:49.466752Z"
    },
    "papermill": {
     "duration": 0.361833,
     "end_time": "2021-01-02T11:30:49.467547",
     "exception": false,
     "start_time": "2021-01-02T11:30:49.105714",
     "status": "completed"
    },
    "tags": []
   },
   "outputs": [
    {
     "data": {
      "text/plain": [
       "Text(0, 0.5, 'Error Rate')"
      ]
     },
     "execution_count": 22,
     "metadata": {},
     "output_type": "execute_result"
    },
    {
     "data": {
      "image/png": "[encoded data removed]",
      "text/plain": [
       "<Figure size 1080x720 with 1 Axes>"
      ]
     },
     "metadata": {},
     "output_type": "display_data"
    }
   ],
   "source": [
    "# Now we will plot the prediction error rates of different k values\n",
    "plt.figure(figsize=(15,10))\n",
    "plt.plot(range(1,40),error_rate, color=\"blue\", linestyle=\"--\",marker=\"o\",markerfacecolor=\"red\",markersize=10)\n",
    "plt.title(\"Error Rate vs K Value\")\n",
    "plt.xlabel=\"K Value\"\n",
    "plt.ylabel(\"Error Rate\")"
   ]
  },
  {
   "cell_type": "markdown",
   "metadata": {
    "papermill": {
     "duration": 0.036376,
     "end_time": "2021-01-02T11:30:49.541995",
     "exception": false,
     "start_time": "2021-01-02T11:30:49.505619",
     "status": "completed"
    },
    "tags": []
   },
   "source": [
    "<font color=\"blue\">\n",
    "    As we can see in the figure above, k=38 gives the least error rate,so we will use it for better predictions"
   ]
  },
  {
   "cell_type": "code",
   "execution_count": 23,
   "metadata": {
    "execution": {
     "iopub.execute_input": "2021-01-02T11:30:49.620767Z",
     "iopub.status.busy": "2021-01-02T11:30:49.620088Z",
     "iopub.status.idle": "2021-01-02T11:30:49.622996Z",
     "shell.execute_reply": "2021-01-02T11:30:49.622493Z"
    },
    "papermill": {
     "duration": 0.044283,
     "end_time": "2021-01-02T11:30:49.623099",
     "exception": false,
     "start_time": "2021-01-02T11:30:49.578816",
     "status": "completed"
    },
    "tags": []
   },
   "outputs": [],
   "source": [
    "knn=KNeighborsClassifier(n_neighbors=38)"
   ]
  },
  {
   "cell_type": "code",
   "execution_count": 24,
   "metadata": {
    "execution": {
     "iopub.execute_input": "2021-01-02T11:30:49.703683Z",
     "iopub.status.busy": "2021-01-02T11:30:49.701251Z",
     "iopub.status.idle": "2021-01-02T11:30:49.707115Z",
     "shell.execute_reply": "2021-01-02T11:30:49.707643Z"
    },
    "papermill": {
     "duration": 0.047952,
     "end_time": "2021-01-02T11:30:49.707783",
     "exception": false,
     "start_time": "2021-01-02T11:30:49.659831",
     "status": "completed"
    },
    "tags": []
   },
   "outputs": [
    {
     "data": {
      "text/plain": [
       "KNeighborsClassifier(n_neighbors=38)"
      ]
     },
     "execution_count": 24,
     "metadata": {},
     "output_type": "execute_result"
    }
   ],
   "source": [
    "knn.fit(x_train, y_train)"
   ]
  },
  {
   "cell_type": "code",
   "execution_count": 25,
   "metadata": {
    "execution": {
     "iopub.execute_input": "2021-01-02T11:30:49.785682Z",
     "iopub.status.busy": "2021-01-02T11:30:49.784702Z",
     "iopub.status.idle": "2021-01-02T11:30:49.804908Z",
     "shell.execute_reply": "2021-01-02T11:30:49.803978Z"
    },
    "papermill": {
     "duration": 0.06023,
     "end_time": "2021-01-02T11:30:49.805039",
     "exception": false,
     "start_time": "2021-01-02T11:30:49.744809",
     "status": "completed"
    },
    "tags": []
   },
   "outputs": [],
   "source": [
    "predictions2=knn.predict(x_test)"
   ]
  },
  {
   "cell_type": "code",
   "execution_count": 26,
   "metadata": {
    "execution": {
     "iopub.execute_input": "2021-01-02T11:30:49.884544Z",
     "iopub.status.busy": "2021-01-02T11:30:49.883879Z",
     "iopub.status.idle": "2021-01-02T11:30:49.892514Z",
     "shell.execute_reply": "2021-01-02T11:30:49.893291Z"
    },
    "papermill": {
     "duration": 0.05127,
     "end_time": "2021-01-02T11:30:49.893492",
     "exception": false,
     "start_time": "2021-01-02T11:30:49.842222",
     "status": "completed"
    },
    "tags": []
   },
   "outputs": [
    {
     "name": "stdout",
     "output_type": "stream",
     "text": [
      "              precision    recall  f1-score   support\n",
      "\n",
      "           1       0.36      0.57      0.44        51\n",
      "           2       0.62      0.30      0.40        44\n",
      "           3       0.38      0.48      0.43        54\n",
      "           4       0.45      0.27      0.34        51\n",
      "\n",
      "    accuracy                           0.41       200\n",
      "   macro avg       0.45      0.41      0.40       200\n",
      "weighted avg       0.45      0.41      0.40       200\n",
      "\n"
     ]
    }
   ],
   "source": [
    "print(classification_report(y_test,predictions2))\n"
   ]
  },
  {
   "cell_type": "markdown",
   "metadata": {
    "papermill": {
     "duration": 0.037782,
     "end_time": "2021-01-02T11:30:49.969500",
     "exception": false,
     "start_time": "2021-01-02T11:30:49.931718",
     "status": "completed"
    },
    "tags": []
   },
   "source": [
    "<font color=\"blue\" >\n",
    "    With a better k value, our model predicts far better than before, Nonetheless K Means Classifier is not good for this dataset. We have to use another algorith that performs better.."
   ]
  }
 ],
 "metadata": {
  "kernelspec": {
   "display_name": "Python 3",
   "language": "python",
   "name": "python3"
  },
  "language_info": {
   "codemirror_mode": {
    "name": "ipython",
    "version": 3
   },
   "file_extension": ".py",
   "mimetype": "text/x-python",
   "name": "python",
   "nbconvert_exporter": "python",
   "pygments_lexer": "ipython3",
   "version": "3.7.6"
  },
  "papermill": {
   "duration": 10.865516,
   "end_time": "2021-01-02T11:30:50.116269",
   "environment_variables": {},
   "exception": null,
   "input_path": "__notebook__.ipynb",
   "output_path": "__notebook__.ipynb",
   "parameters": {},
   "start_time": "2021-01-02T11:30:39.250753",
   "version": "2.1.0"
  }
 },
 "nbformat": 4,
 "nbformat_minor": 4
}
